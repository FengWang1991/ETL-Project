{
 "cells": [
  {
   "cell_type": "code",
   "execution_count": 12,
   "metadata": {},
   "outputs": [],
   "source": [
    "# dependencies and setup \n",
    "from bs4 import BeautifulSoup\n",
    "import pandas as pd\n",
    "from splinter import Browser\n",
    "import time\n",
    "from tqdm import tqdm"
   ]
  },
  {
   "cell_type": "code",
   "execution_count": 26,
   "metadata": {},
   "outputs": [],
   "source": [
    "# create a browser instance using splinter (FOR MAC) \n",
    "# executable_path = {'executable_path': '/usr/local/bin/chromedriver'}\n",
    "# browser = Browser('chrome', **executable_path, headless=False)\n",
    "# time.sleep(1)\n",
    "\n",
    "# For Windows \n",
    "executable_path = {'executable_path': 'driver/chromedriver.exe'}\n",
    "browser = Browser('chrome', **executable_path, headless=False)"
   ]
  },
  {
   "cell_type": "code",
   "execution_count": 27,
   "metadata": {},
   "outputs": [],
   "source": [
    "# visit the Steamdb ratings url \n",
    "steam_ratings_url = 'https://steamdb.info/stats/gameratings/'\n",
    "browser.visit(steam_ratings_url)\n",
    "time.sleep(3)"
   ]
  },
  {
   "cell_type": "code",
   "execution_count": 30,
   "metadata": {},
   "outputs": [],
   "source": [
    "# create HTML object\n",
    "html = browser.html\n",
    "\n",
    "# parse HTML with BeautifulSoup \n",
    "soup = BeautifulSoup(html, 'html.parser')"
   ]
  },
  {
   "cell_type": "code",
   "execution_count": 38,
   "metadata": {},
   "outputs": [],
   "source": [
    "# # show top 5000 highest-rated games on Steam (log in is required)\n",
    "browser.find_by_css('select[name=table-apps_length]').click()\n",
    "browser.find_by_css('option[value=\"-1\"]').click()\n",
    "time.sleep(5)"
   ]
  },
  {
   "cell_type": "code",
   "execution_count": 33,
   "metadata": {},
   "outputs": [],
   "source": [
    "# create a new soup object with the resulting html after showing all rows\n",
    "allrows_html = browser.html\n",
    "newsoup = BeautifulSoup(allrows_html, 'html.parser')"
   ]
  },
  {
   "cell_type": "code",
   "execution_count": 34,
   "metadata": {},
   "outputs": [
    {
     "name": "stderr",
     "output_type": "stream",
     "text": [
      "100%|█████████████████████████████████████████████████████████████████████████| 37627/37627 [00:01<00:00, 21094.09it/s]"
     ]
    },
    {
     "name": "stdout",
     "output_type": "stream",
     "text": [
      "Scraping Complete\n"
     ]
    },
    {
     "name": "stderr",
     "output_type": "stream",
     "text": [
      "\n"
     ]
    }
   ],
   "source": [
    "# get all rows in the top rated games table with a class of 'app'\n",
    "all_trs = newsoup.find_all('tr', class_='app')\n",
    "\n",
    "# create a base url to append to the game url\n",
    "base_url = 'https://steamdb.info'\n",
    "\n",
    "# create an empty list to append each game's info\n",
    "game_ratings = []\n",
    "\n",
    "# for loop to iterate over each row and retrieve game data (tqdm for progress-bar)\n",
    "for tr in tqdm(all_trs):\n",
    "    \n",
    "    # get all columns in each row\n",
    "    td_tags = tr.find_all('td')\n",
    "    \n",
    "    # get the game title located in column 3 (index 2)\n",
    "    game_name = td_tags[2].text\n",
    "    \n",
    "    # get the game url located in column 2 (index 1) and append to the base url to complete it\n",
    "    url = td_tags[1].find('a')['href']\n",
    "    game_url = base_url + url\n",
    "    \n",
    "    # get the game rating located in column 6 (index 5)\n",
    "    steam_rating = td_tags[5].text\n",
    "    \n",
    "    # create a dictionary of the retrieved values and append to list\n",
    "    game_ratings.append({'game_name':game_name,\n",
    "                         'game_url':game_url,\n",
    "                         'steam_rating':steam_rating\n",
    "                        })\n",
    "\n",
    "print(\"Scraping Complete\")\n"
   ]
  },
  {
   "cell_type": "code",
   "execution_count": 35,
   "metadata": {},
   "outputs": [
    {
     "data": {
      "text/html": [
       "<div>\n",
       "<style scoped>\n",
       "    .dataframe tbody tr th:only-of-type {\n",
       "        vertical-align: middle;\n",
       "    }\n",
       "\n",
       "    .dataframe tbody tr th {\n",
       "        vertical-align: top;\n",
       "    }\n",
       "\n",
       "    .dataframe thead th {\n",
       "        text-align: right;\n",
       "    }\n",
       "</style>\n",
       "<table border=\"1\" class=\"dataframe\">\n",
       "  <thead>\n",
       "    <tr style=\"text-align: right;\">\n",
       "      <th></th>\n",
       "      <th>game_name</th>\n",
       "      <th>game_url</th>\n",
       "      <th>steam_rating</th>\n",
       "    </tr>\n",
       "  </thead>\n",
       "  <tbody>\n",
       "    <tr>\n",
       "      <th>0</th>\n",
       "      <td>Portal 2</td>\n",
       "      <td>https://steamdb.info/app/620/</td>\n",
       "      <td>97.54%</td>\n",
       "    </tr>\n",
       "    <tr>\n",
       "      <th>1</th>\n",
       "      <td>Factorio</td>\n",
       "      <td>https://steamdb.info/app/427520/</td>\n",
       "      <td>97.14%</td>\n",
       "    </tr>\n",
       "    <tr>\n",
       "      <th>2</th>\n",
       "      <td>The Witcher 3: Wild Hunt</td>\n",
       "      <td>https://steamdb.info/app/292030/</td>\n",
       "      <td>97.10%</td>\n",
       "    </tr>\n",
       "    <tr>\n",
       "      <th>3</th>\n",
       "      <td>Terraria</td>\n",
       "      <td>https://steamdb.info/app/105600/</td>\n",
       "      <td>96.94%</td>\n",
       "    </tr>\n",
       "    <tr>\n",
       "      <th>4</th>\n",
       "      <td>RimWorld</td>\n",
       "      <td>https://steamdb.info/app/294100/</td>\n",
       "      <td>96.66%</td>\n",
       "    </tr>\n",
       "    <tr>\n",
       "      <th>...</th>\n",
       "      <td>...</td>\n",
       "      <td>...</td>\n",
       "      <td>...</td>\n",
       "    </tr>\n",
       "    <tr>\n",
       "      <th>37622</th>\n",
       "      <td>Jurassic Island: The Dinosaur Zoo</td>\n",
       "      <td>https://steamdb.info/app/378420/</td>\n",
       "      <td>18.66%</td>\n",
       "    </tr>\n",
       "    <tr>\n",
       "      <th>37623</th>\n",
       "      <td>Flatout 3</td>\n",
       "      <td>https://steamdb.info/app/201510/</td>\n",
       "      <td>17.11%</td>\n",
       "    </tr>\n",
       "    <tr>\n",
       "      <th>37624</th>\n",
       "      <td>Fray</td>\n",
       "      <td>https://steamdb.info/app/210490/</td>\n",
       "      <td>16.70%</td>\n",
       "    </tr>\n",
       "    <tr>\n",
       "      <th>37625</th>\n",
       "      <td>Race To Mars</td>\n",
       "      <td>https://steamdb.info/app/257930/</td>\n",
       "      <td>15.62%</td>\n",
       "    </tr>\n",
       "    <tr>\n",
       "      <th>37626</th>\n",
       "      <td>Urban War Defense</td>\n",
       "      <td>https://steamdb.info/app/397760/</td>\n",
       "      <td>14.06%</td>\n",
       "    </tr>\n",
       "  </tbody>\n",
       "</table>\n",
       "<p>37627 rows × 3 columns</p>\n",
       "</div>"
      ],
      "text/plain": [
       "                               game_name                          game_url  \\\n",
       "0                               Portal 2     https://steamdb.info/app/620/   \n",
       "1                               Factorio  https://steamdb.info/app/427520/   \n",
       "2               The Witcher 3: Wild Hunt  https://steamdb.info/app/292030/   \n",
       "3                               Terraria  https://steamdb.info/app/105600/   \n",
       "4                               RimWorld  https://steamdb.info/app/294100/   \n",
       "...                                  ...                               ...   \n",
       "37622  Jurassic Island: The Dinosaur Zoo  https://steamdb.info/app/378420/   \n",
       "37623                          Flatout 3  https://steamdb.info/app/201510/   \n",
       "37624                               Fray  https://steamdb.info/app/210490/   \n",
       "37625                       Race To Mars  https://steamdb.info/app/257930/   \n",
       "37626                  Urban War Defense  https://steamdb.info/app/397760/   \n",
       "\n",
       "      steam_rating  \n",
       "0           97.54%  \n",
       "1           97.14%  \n",
       "2           97.10%  \n",
       "3           96.94%  \n",
       "4           96.66%  \n",
       "...            ...  \n",
       "37622       18.66%  \n",
       "37623       17.11%  \n",
       "37624       16.70%  \n",
       "37625       15.62%  \n",
       "37626       14.06%  \n",
       "\n",
       "[37627 rows x 3 columns]"
      ]
     },
     "execution_count": 35,
     "metadata": {},
     "output_type": "execute_result"
    }
   ],
   "source": [
    "game_ratings_df = pd.DataFrame(game_ratings)\n",
    "game_ratings_df"
   ]
  },
  {
   "cell_type": "code",
   "execution_count": 37,
   "metadata": {},
   "outputs": [],
   "source": [
    "# Export the DataFrame to csv file\n",
    "game_ratings_df.to_csv(\"data/Steam_games_ratings.csv\")"
   ]
  }
 ],
 "metadata": {
  "kernelspec": {
   "display_name": "Python 3",
   "language": "python",
   "name": "python3"
  },
  "language_info": {
   "codemirror_mode": {
    "name": "ipython",
    "version": 3
   },
   "file_extension": ".py",
   "mimetype": "text/x-python",
   "name": "python",
   "nbconvert_exporter": "python",
   "pygments_lexer": "ipython3",
   "version": "3.7.6"
  }
 },
 "nbformat": 4,
 "nbformat_minor": 4
}
